{
 "cells": [
  {
   "cell_type": "code",
   "execution_count": null,
   "id": "e498a816",
   "metadata": {},
   "outputs": [],
   "source": [
    "# using the PolyChaos.jl package to calculate the numerical integral\n",
    "using PolyChaos\n",
    "\n",
    "opq = Uniform01OrthoPoly(3, addQuadrature = true) # can show you how is the function integrated\n",
    "integrate(x -> 6x^5, opq) # show the result of the integral\n",
    "show(opq)"
   ]
  },
  {
   "cell_type": "code",
   "execution_count": null,
   "id": "34bd8a3c",
   "metadata": {},
   "outputs": [],
   "source": [
    "# Numerical integration\n",
    "n = 3\n",
    "f(t) = sin(t) # define a function\n",
    "op = Uniform01OrthoPoly(n, addQuadrature = true) # create a polynomial basis with uniform distribution\n",
    "variant0 = integrate(f, op) # integrate the function"
   ]
  },
  {
   "cell_type": "code",
   "execution_count": null,
   "id": "c6aeb660",
   "metadata": {},
   "outputs": [],
   "source": [
    "measure = Uniform01Measure() # create a normalized measure\n",
    "quadRule1 = Quad(n-1, measure) # create a quadrature rule\n",
    "# use the n order orthogonal polynomial to calculate the integral\n",
    "# with the given measure\n",
    "nw(quadRule1)\n",
    "# The function nw() prints the nodes and weights.\n",
    "variant1 = integrate(f, quadRule1)"
   ]
  },
  {
   "cell_type": "code",
   "execution_count": null,
   "id": "af8aa97f",
   "metadata": {},
   "outputs": [],
   "source": [
    "# print the parmeters of polynomials\n",
    "op = Uniform01OrthoPoly(n, addQuadrature=false)\n",
    "coeffs(op)\n",
    "\n",
    "quadRule2 = Quad(n, op)"
   ]
  },
  {
   "cell_type": "markdown",
   "id": "15b21821",
   "metadata": {},
   "source": [
    "# Quadrature Rules\n",
    "1. choose the nodes to approximate the integral\n",
    "2. Generate recurrence coefficients ($\\alpha$, $\\beta$).\n",
    "3. Generate quadrature rule from those recurrence coefficients."
   ]
  },
  {
   "cell_type": "code",
   "execution_count": 25,
   "id": "5200e884",
   "metadata": {},
   "outputs": [
    {
     "data": {
      "text/plain": [
       "2-element Vector{Vector{Float64}}:\n",
       " [0.33233532934131743, 0.1791854079858716, 0.1120747682907886, 0.0767199517952717, 0.055815332777486494]\n",
       " [1.5640214854839802, 0.11582724334265602, 0.1679536499742999, 0.19497630805780736, 0.210634847295037]"
      ]
     },
     "metadata": {},
     "output_type": "display_data"
    }
   ],
   "source": [
    "using PolyChaos, LinearAlgebra\n",
    "my_f(t) = t^2\n",
    "a, b = 1.23, 3.45\n",
    "int_exact = 0.353897\n",
    "\n",
    "N = 4\n",
    "α, β = rm_jacobi(N+1, a, b)\n",
    "# rm_jacobi() generates the Jacobi polynomial\n",
    "display([α, β])"
   ]
  },
  {
   "cell_type": "markdown",
   "id": "babe411c",
   "metadata": {},
   "source": [
    "## Univariate Monic Orthogonal Polynomials"
   ]
  },
  {
   "cell_type": "markdown",
   "id": "a7a891c3",
   "metadata": {},
   "source": [
    "To generate the orthogonal polynomials up to maximum degree deg, simply call"
   ]
  },
  {
   "cell_type": "code",
   "execution_count": 27,
   "id": "9e152f10",
   "metadata": {},
   "outputs": [
    {
     "name": "stdout",
     "output_type": "stream",
     "text": [
      "\n",
      "\u001b[4mUnivariate orthogonal polynomials\u001b[24m\n",
      "degree:\u001b[0m\t\t4\n",
      "#coeffs:\u001b[0m\t5\n",
      "α =\u001b[0m\t\t[0.0, 0.0, 0.0, 0.0, 0.0]\n",
      "β =\u001b[0m\t\t[1.0, 1.0, 2.0, 3.0, 4.0]\n",
      "\n",
      "\u001b[4mMeasure dλ(t)=w(t)dt\u001b[24m\n",
      "w:\tw_gaussian\n",
      "dom:\t(-Inf, Inf)\n",
      "symmetric:\ttrue\n"
     ]
    }
   ],
   "source": [
    "deg = 4\n",
    "op = GaussOrthoPoly(deg)\n",
    "show(op)"
   ]
  },
  {
   "cell_type": "code",
   "execution_count": null,
   "id": "d747e3c1",
   "metadata": {},
   "outputs": [
    {
     "data": {
      "text/plain": [
       "5×2 Matrix{Float64}:\n",
       " 0.0  1.0\n",
       " 0.0  1.0\n",
       " 0.0  2.0\n",
       " 0.0  3.0\n",
       " 0.0  4.0"
      ]
     },
     "metadata": {},
     "output_type": "display_data"
    }
   ],
   "source": [
    "coeffs(op) # whne the function is not provided, the coeffs() function will return the α and β of the polynomial"
   ]
  },
  {
   "cell_type": "code",
   "execution_count": 29,
   "id": "48186be8",
   "metadata": {},
   "outputs": [
    {
     "data": {
      "text/latex": [
       "\\begin{verbatim}\n",
       "coeffs(op::AbstractOrthoPoly)\n",
       "coeffs(op::AbstractVector)\n",
       "coeffs(mop::MultiOrthoPoly)\n",
       "\\end{verbatim}\n",
       "returns recurrence coefficients of in matrix form\n",
       "\n"
      ],
      "text/markdown": [
       "```\n",
       "coeffs(op::AbstractOrthoPoly)\n",
       "coeffs(op::AbstractVector)\n",
       "coeffs(mop::MultiOrthoPoly)\n",
       "```\n",
       "\n",
       "returns recurrence coefficients of in matrix form\n"
      ],
      "text/plain": [
       "\u001b[36m  coeffs(op::AbstractOrthoPoly)\u001b[39m\n",
       "\u001b[36m  coeffs(op::AbstractVector)\u001b[39m\n",
       "\u001b[36m  coeffs(mop::MultiOrthoPoly)\u001b[39m\n",
       "\n",
       "  returns recurrence coefficients of in matrix form"
      ]
     },
     "metadata": {},
     "output_type": "display_data"
    }
   ],
   "source": [
    "@doc coeffs"
   ]
  },
  {
   "cell_type": "code",
   "execution_count": null,
   "id": "f6a6157a",
   "metadata": {},
   "outputs": [
    {
     "name": "stdout",
     "output_type": "stream",
     "text": [
      "\n",
      "\u001b[4mUnivariate orthogonal polynomials\u001b[24m\n",
      "degree:\u001b[0m\t\t4\n",
      "#coeffs:\u001b[0m\t5\n",
      "α =\u001b[0m\t\t[0.3333333333333334, 0.06666666666666654, 0.028571428571428723, 0.015873015873015817, 0.010101010101010137]\n",
      "β =\u001b[0m\t\t[2.0000000000000004, 0.22222222222222224, 0.24, 0.2448979591836734, 0.2469135802469136]\n",
      "\n",
      "\u001b[4mMeasure dλ(t)=w(t)dt\u001b[24m\n",
      "name:\tmy_meas\n",
      "w:\tw\n",
      "dom:\t(-1.0, 1.0)\n",
      "symmetric:\tfalse\n",
      "pars:\tDict{Any, Any}()\n"
     ]
    },
    {
     "ename": "UndefVarError",
     "evalue": "UndefVarError: `t` not defined in `Main`\nSuggestion: check for spelling errors or missing imports.",
     "output_type": "error",
     "traceback": [
      "UndefVarError: `t` not defined in `Main`\n",
      "Suggestion: check for spelling errors or missing imports.\n",
      "\n",
      "Stacktrace:\n",
      " [1] top-level scope\n",
      "   @ ~/julia_local/learning_demo/learn_PCE_opf/examples/jl_notebook_cell_df34fa98e69747e1a8f8a730347b8e2f_X20sZmlsZQ==.jl:6"
     ]
    }
   ],
   "source": [
    "supp = (-1, 1) # tuple\n",
    "w(t) = 1 + t\n",
    "my_meas = Measure(\"my_meas\", w, supp, false, Dict())\n",
    "my_op = OrthoPoly(\"my_op\", deg, my_meas; Nquad = 200)\n",
    "show(my_op)"
   ]
  }
 ],
 "metadata": {
  "kernelspec": {
   "display_name": "Julia 1.11.5",
   "language": "julia",
   "name": "julia-1.11"
  },
  "language_info": {
   "file_extension": ".jl",
   "mimetype": "application/julia",
   "name": "julia",
   "version": "1.11.5"
  }
 },
 "nbformat": 4,
 "nbformat_minor": 5
}
